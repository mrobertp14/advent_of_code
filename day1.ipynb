{
 "cells": [
  {
   "cell_type": "markdown",
   "metadata": {},
   "source": [
    "### Day 1 - Report Repair"
   ]
  },
  {
   "cell_type": "markdown",
   "metadata": {},
   "source": [
    "Before you leave, the Elves in accounting just need you to fix your expense report (your puzzle input); apparently, something isn't quite adding up."
   ]
  },
  {
   "cell_type": "code",
   "execution_count": 21,
   "metadata": {
    "ExecuteTime": {
     "end_time": "2020-12-17T14:58:21.770912Z",
     "start_time": "2020-12-17T14:58:21.741787Z"
    }
   },
   "outputs": [],
   "source": [
    "expenseReport = \"1825\t1944\t1802\t1676\t1921\t1652\t1710\t1952\t1932\t1934\t1823\t1732\t1795\t1681\t1706\t1697\t1919\t1695\t2007\t1889\t1942\t961\t1868\t1878\t1723\t416\t1875\t1831\t1890\t1654\t1956\t1827\t973\t1947\t1688\t1680\t1808\t1998\t1794\t1552\t1935\t1693\t1824\t1711\t1766\t1668\t1968\t1884\t217\t2003\t1869\t1658\t1953\t1829\t1984\t2005\t1973\t428\t1957\t1925\t1719\t1797\t321\t1804\t1971\t922\t1976\t1863\t2008\t1806\t1833\t1809\t1707\t1954\t1811\t1815\t1915\t1799\t1917\t1664\t1937\t1775\t1685\t1756\t1940\t1660\t1859\t1916\t1989\t1763\t1994\t1716\t1689\t1866\t1708\t1670\t1982\t1870\t1847\t1627\t1819\t1786\t1828\t1640\t1699\t1722\t1737\t1882\t1666\t1871\t1703\t1770\t1623\t1837\t1636\t1655\t1930\t1739\t1810\t1805\t1861\t1922\t1993\t1896\t1760\t2002\t1779\t1633\t1972\t1856\t1641\t1718\t2004\t1730\t1826\t1923\t1753\t1735\t660\t1988\t1796\t1990\t1720\t1626\t1788\t1700\t942\t1902\t1943\t1758\t1839\t1924\t938\t1634\t1724\t1983\t1683\t1687\t1904\t1907\t1757\t2001\t1910\t1849\t1781\t1981\t1743\t1851\t2009\t619\t1898\t1891\t1751\t1765\t1959\t1888\t1894\t1759\t389\t1964\t1900\t1742\t1672\t1969\t1978\t1933\t1906\t1807\t1867\t1838\t1960\t1814\t1950\t1918\t1726\t1986\t1746\t2006\t1949\t1784\""
   ]
  },
  {
   "cell_type": "code",
   "execution_count": 22,
   "metadata": {
    "ExecuteTime": {
     "end_time": "2020-12-17T14:58:28.016814Z",
     "start_time": "2020-12-17T14:58:28.007106Z"
    }
   },
   "outputs": [],
   "source": [
    "expenseReport = (numbers.split(\"\\t\"))"
   ]
  },
  {
   "cell_type": "code",
   "execution_count": 23,
   "metadata": {
    "ExecuteTime": {
     "end_time": "2020-12-17T14:59:00.469036Z",
     "start_time": "2020-12-17T14:59:00.442629Z"
    }
   },
   "outputs": [],
   "source": [
    "#convert string array to int array\n",
    "expenseReport = [int(num) for num in expenseReport]"
   ]
  },
  {
   "cell_type": "code",
   "execution_count": 25,
   "metadata": {
    "ExecuteTime": {
     "end_time": "2020-12-17T14:59:44.045535Z",
     "start_time": "2020-12-17T14:59:44.030132Z"
    }
   },
   "outputs": [],
   "source": [
    "def getLargestPossNum(target, length):\n",
    "    expenseReport.sort()\n",
    "    mins = sum(expenseReport[0 : length-1])\n",
    "    max_poss_num = target - mins\n",
    "    return (max_poss_num)"
   ]
  },
  {
   "cell_type": "markdown",
   "metadata": {
    "ExecuteTime": {
     "end_time": "2020-12-17T15:00:16.873756Z",
     "start_time": "2020-12-17T15:00:16.857864Z"
    }
   },
   "source": [
    "#### Star 1 \n",
    "Find the two entries that sum to 2020 and then multiply those two numbers together."
   ]
  },
  {
   "cell_type": "code",
   "execution_count": 30,
   "metadata": {
    "ExecuteTime": {
     "end_time": "2020-12-17T15:02:42.036110Z",
     "start_time": "2020-12-17T15:02:41.997801Z"
    }
   },
   "outputs": [
    {
     "name": "stdout",
     "output_type": "stream",
     "text": [
      "545379\n",
      "545379\n"
     ]
    }
   ],
   "source": [
    "#star1\n",
    "max_poss_num = getLargestPossNum(2020, 2)\n",
    "\n",
    "less_nums = []\n",
    "for n in expenseReport:\n",
    "    if n < max_poss_num:\n",
    "        less_nums.append(n)\n",
    "\n",
    "for i in range(len(less_nums)):\n",
    "    for j in range(len(less_nums)-1):\n",
    "        x,y= int_nums[i], int_nums[j+1]\n",
    "        if(x+y ==2020):\n",
    "            print (x*y)\n",
    "            break"
   ]
  },
  {
   "cell_type": "markdown",
   "metadata": {},
   "source": [
    "#### Star 2\n",
    "\n",
    "The Elves in accounting are thankful for your help; one of them even offers you a starfish coin they had left over from a past vacation. They offer you a second one if you can find three numbers in your expense report that meet the same criteria."
   ]
  },
  {
   "cell_type": "code",
   "execution_count": 29,
   "metadata": {
    "ExecuteTime": {
     "end_time": "2020-12-17T15:01:06.427241Z",
     "start_time": "2020-12-17T15:01:06.411167Z"
    }
   },
   "outputs": [
    {
     "name": "stdout",
     "output_type": "stream",
     "text": [
      "257778836\n"
     ]
    }
   ],
   "source": [
    "#star2\n",
    "max_poss_num = getLargestPossNum(2020, 3)\n",
    "less_nums = []\n",
    "for n in expenseReport:\n",
    "    if n < max_poss_num2:\n",
    "        less_nums.append(n)\n",
    "i = 0\n",
    "for i in range(len(less_nums)):\n",
    "    for j in range(len(less_nums)-2):\n",
    "        x,y,z = less_nums[i], less_nums[j+1], less_nums[j+2]\n",
    "        if(x+y+z ==2020):\n",
    "            print (x*y*z)\n",
    "            break\n",
    "    \n",
    "        "
   ]
  },
  {
   "cell_type": "code",
   "execution_count": null,
   "metadata": {},
   "outputs": [],
   "source": []
  }
 ],
 "metadata": {
  "kernelspec": {
   "display_name": "Python 3",
   "language": "python",
   "name": "python3"
  },
  "language_info": {
   "codemirror_mode": {
    "name": "ipython",
    "version": 3
   },
   "file_extension": ".py",
   "mimetype": "text/x-python",
   "name": "python",
   "nbconvert_exporter": "python",
   "pygments_lexer": "ipython3",
   "version": "3.8.2"
  },
  "toc": {
   "base_numbering": 1,
   "nav_menu": {},
   "number_sections": true,
   "sideBar": true,
   "skip_h1_title": false,
   "title_cell": "Table of Contents",
   "title_sidebar": "Contents",
   "toc_cell": false,
   "toc_position": {},
   "toc_section_display": true,
   "toc_window_display": false
  }
 },
 "nbformat": 4,
 "nbformat_minor": 4
}
