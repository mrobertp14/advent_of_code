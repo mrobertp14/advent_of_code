{
 "cells": [
  {
   "cell_type": "markdown",
   "metadata": {},
   "source": [
    "### Day 8: Handheld Halting\n",
    "\n",
    "<body>\n",
    "<p>\n",
    "Your flight to the major airline hub reaches cruising altitude without incident. While you consider checking the in-flight menu for one of those drinks that come with a little umbrella, you are interrupted by the kid sitting next to you.\n",
    "\n",
    "Their handheld game console won't turn on! They ask if you can take a look.\n",
    "\n",
    "You narrow the problem down to a strange infinite loop in the boot code (your puzzle input) of the device. You should be able to fix it, but first you need to be able to run the code in isolation.\n",
    "\n",
    "The boot code is represented as a text file with one instruction per line of text. Each instruction consists of an operation (acc, jmp, or nop) and an argument (a signed number like +4 or -20).\n",
    "</p>\n",
    "\n",
    "\n",
    "<li>\n",
    "<ol>acc increases or decreases a single global value called the accumulator by the value given in the argument. For example, acc +7 would increase the accumulator by 7. The accumulator starts at 0. After an acc instruction, the instruction immediately below it is executed next.</ol>\n",
    "<ol>jmp jumps to a new instruction relative to itself. The next instruction to execute is found using the argument as an offset from the jmp instruction; for example, jmp +2 would skip the next instruction, jmp +1 would continue to the instruction immediately below it, and jmp -20 would cause the instruction 20 lines above to be executed next.</ol>\n",
    "<ol>nop stands for No OPeration - it does nothing. The instruction immediately below it is executed next.</ol>\n",
    "</li>\n",
    "</body>"
   ]
  },
  {
   "cell_type": "code",
   "execution_count": 14,
   "metadata": {
    "ExecuteTime": {
     "end_time": "2020-12-20T15:02:23.870552Z",
     "start_time": "2020-12-20T15:02:23.854730Z"
    }
   },
   "outputs": [],
   "source": [
    "import numpy as np\n",
    "import copy"
   ]
  },
  {
   "cell_type": "code",
   "execution_count": 15,
   "metadata": {
    "ExecuteTime": {
     "end_time": "2020-12-20T15:02:23.907880Z",
     "start_time": "2020-12-20T15:02:23.870552Z"
    }
   },
   "outputs": [],
   "source": [
    "f = open(\"input08.txt\")\n",
    "inputs=f.read()\n",
    "inputs = inputs.split(\"\\n\")\n",
    "inputs = [s.split(\" \") for s in inputs]"
   ]
  },
  {
   "cell_type": "markdown",
   "metadata": {},
   "source": [
    "#### Star 1\n",
    "\n",
    "Run your copy of the boot code. Immediately before any instruction is executed a second time <em>i.e. before infinite loop</em>, what value is in the accumulator?"
   ]
  },
  {
   "cell_type": "code",
   "execution_count": 16,
   "metadata": {
    "ExecuteTime": {
     "end_time": "2020-12-20T15:02:23.923488Z",
     "start_time": "2020-12-20T15:02:23.907880Z"
    }
   },
   "outputs": [],
   "source": [
    "\n",
    "def star1(inputs) :\n",
    "    i = 0\n",
    "    acc = 0\n",
    "    visited = np.zeros(len(inputs), dtype=bool)\n",
    "    while i < len(inputs):\n",
    "        if(visited[i] != False):\n",
    "            break\n",
    "        visited[i] = True\n",
    "        if inputs[i][0] == 'jmp':\n",
    "            i += int(inputs[i][1])\n",
    "        elif inputs[i][0] == 'acc':\n",
    "            acc += int(inputs[i][1])\n",
    "            i+=1\n",
    "        else:\n",
    "            i +=1\n",
    "    return i, acc\n",
    "\n",
    "        "
   ]
  },
  {
   "cell_type": "code",
   "execution_count": 17,
   "metadata": {
    "ExecuteTime": {
     "end_time": "2020-12-20T15:02:23.939078Z",
     "start_time": "2020-12-20T15:02:23.923488Z"
    }
   },
   "outputs": [
    {
     "data": {
      "text/plain": [
       "1475"
      ]
     },
     "execution_count": 17,
     "metadata": {},
     "output_type": "execute_result"
    }
   ],
   "source": [
    "star1(inputs)[1]"
   ]
  },
  {
   "cell_type": "markdown",
   "metadata": {
    "ExecuteTime": {
     "end_time": "2020-12-20T14:59:54.956583Z",
     "start_time": "2020-12-20T14:59:54.940963Z"
    }
   },
   "source": [
    "<font color=\"Red\">Your puzzle answer was 1475.</font>"
   ]
  },
  {
   "cell_type": "markdown",
   "metadata": {},
   "source": [
    "#### Star 2\n",
    "\n",
    "After some careful analysis, you believe that exactly one instruction is corrupted.\n",
    "\n",
    "Somewhere in the program, either a jmp is supposed to be a nop, or a nop is supposed to be a jmp. (No acc instructions were harmed in the corruption of this boot code.)\n",
    "\n",
    "The program is supposed to terminate by attempting to execute an instruction immediately after the last instruction in the file. By changing exactly one jmp or nop, you can repair the boot code and make it terminate correctly.\n",
    "\n",
    "Fix the program so that it terminates normally by changing exactly one jmp (to nop) or nop (to jmp). What is the value of the accumulator after the program terminates?"
   ]
  },
  {
   "cell_type": "code",
   "execution_count": 18,
   "metadata": {
    "ExecuteTime": {
     "end_time": "2020-12-20T15:02:24.393152Z",
     "start_time": "2020-12-20T15:02:23.939078Z"
    }
   },
   "outputs": [
    {
     "name": "stdout",
     "output_type": "stream",
     "text": [
      "1270\n"
     ]
    }
   ],
   "source": [
    "#star2\n",
    "\n",
    "swapped = np.zeros(len(inputs), dtype = (bool))\n",
    "swapped\n",
    "x =0\n",
    "for i in range(len(inputs)):\n",
    "    inputsA = copy.deepcopy(inputs)\n",
    "    if not swapped[i]:\n",
    "        swapped[i] =True\n",
    "        if inputsA[i][0] == 'jmp':\n",
    "            inputsA[i][0] = 'nop'\n",
    "        elif inputsA[i][0] == 'nop':\n",
    "            inputsA[i][0] ='jmp'\n",
    "    x, acc = star1(inputsA)\n",
    "    if(x == len(inputs)):\n",
    "        break\n",
    "\n",
    "print(acc)"
   ]
  },
  {
   "cell_type": "markdown",
   "metadata": {},
   "source": [
    "<font color=\"Red\"> Your puzzle answer was 1270</font>"
   ]
  },
  {
   "cell_type": "code",
   "execution_count": null,
   "metadata": {},
   "outputs": [],
   "source": []
  }
 ],
 "metadata": {
  "kernelspec": {
   "display_name": "Python 3",
   "language": "python",
   "name": "python3"
  },
  "language_info": {
   "codemirror_mode": {
    "name": "ipython",
    "version": 3
   },
   "file_extension": ".py",
   "mimetype": "text/x-python",
   "name": "python",
   "nbconvert_exporter": "python",
   "pygments_lexer": "ipython3",
   "version": "3.8.2"
  },
  "toc": {
   "base_numbering": 1,
   "nav_menu": {},
   "number_sections": true,
   "sideBar": true,
   "skip_h1_title": false,
   "title_cell": "Table of Contents",
   "title_sidebar": "Contents",
   "toc_cell": false,
   "toc_position": {},
   "toc_section_display": true,
   "toc_window_display": false
  }
 },
 "nbformat": 4,
 "nbformat_minor": 4
}
