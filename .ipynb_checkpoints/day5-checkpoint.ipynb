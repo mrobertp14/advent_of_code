{
 "cells": [
  {
   "cell_type": "markdown",
   "metadata": {},
   "source": [
    "### Day 5: Binary Boarding\n",
    "\n",
    "This airline uses binary space partitioning to seat people. A seat might be specified like FBFBBFFRLR, where F means \"front\", B means \"back\", L means \"left\", and R means \"right\".\n",
    "\n",
    "The first 7 characters will either be F or B; these specify exactly one of the 128 rows on the plane (numbered 0 through 127). Each letter tells you which half of a region the given seat is in. Start with the whole list of rows; the first letter indicates whether the seat is in the front (0 through 63) or the back (64 through 127). The next letter indicates which half of that region the seat is in, and so on until you're left with exactly one row."
   ]
  },
  {
   "cell_type": "code",
   "execution_count": 6,
   "metadata": {
    "ExecuteTime": {
     "end_time": "2020-12-20T14:11:15.015999Z",
     "start_time": "2020-12-20T14:11:15.000376Z"
    }
   },
   "outputs": [],
   "source": [
    "f = open(\"input05.txt\")"
   ]
  },
  {
   "cell_type": "code",
   "execution_count": 7,
   "metadata": {
    "ExecuteTime": {
     "end_time": "2020-12-20T14:11:15.044166Z",
     "start_time": "2020-12-20T14:11:15.015999Z"
    }
   },
   "outputs": [],
   "source": [
    "inputs = f.read()"
   ]
  },
  {
   "cell_type": "code",
   "execution_count": 8,
   "metadata": {
    "ExecuteTime": {
     "end_time": "2020-12-20T14:11:15.059787Z",
     "start_time": "2020-12-20T14:11:15.044166Z"
    }
   },
   "outputs": [],
   "source": [
    "inputs = inputs.split(\"\\n\")"
   ]
  },
  {
   "cell_type": "code",
   "execution_count": 9,
   "metadata": {
    "ExecuteTime": {
     "end_time": "2020-12-20T14:11:15.075413Z",
     "start_time": "2020-12-20T14:11:15.059787Z"
    }
   },
   "outputs": [],
   "source": [
    "def findCol(ticket):\n",
    "    seatNo = ticket.replace(\"L\", '0')\n",
    "    seatNo = seatNo.replace(\"R\", '1')\n",
    "    seatNo = int(seatNo,2)\n",
    "    return(seatNo)"
   ]
  },
  {
   "cell_type": "code",
   "execution_count": 10,
   "metadata": {
    "ExecuteTime": {
     "end_time": "2020-12-20T14:11:15.091170Z",
     "start_time": "2020-12-20T14:11:15.075413Z"
    }
   },
   "outputs": [],
   "source": [
    "def findRow(ticket):\n",
    "    seatNo = ticket.replace(\"F\", '0')\n",
    "    seatNo = seatNo.replace(\"B\", '1')\n",
    "    seatNo = int(seatNo,2)\n",
    "    return(seatNo)"
   ]
  },
  {
   "cell_type": "markdown",
   "metadata": {},
   "source": [
    "#### Star 1\n",
    "\n",
    "As a sanity check, look through your list of boarding passes. What is the highest seat ID on a boarding pass?"
   ]
  },
  {
   "cell_type": "code",
   "execution_count": 11,
   "metadata": {
    "ExecuteTime": {
     "end_time": "2020-12-20T14:11:15.106614Z",
     "start_time": "2020-12-20T14:11:15.091170Z"
    }
   },
   "outputs": [],
   "source": [
    "seats = []\n",
    "for i in inputs:\n",
    "    row = findRow(i[0:7])\n",
    "    col = findCol(i[7:10])\n",
    "    total =(row*8)+col\n",
    "    seats.append(total)"
   ]
  },
  {
   "cell_type": "code",
   "execution_count": 12,
   "metadata": {
    "ExecuteTime": {
     "end_time": "2020-12-20T14:11:15.122236Z",
     "start_time": "2020-12-20T14:11:15.106614Z"
    }
   },
   "outputs": [
    {
     "data": {
      "text/plain": [
       "955"
      ]
     },
     "execution_count": 12,
     "metadata": {},
     "output_type": "execute_result"
    }
   ],
   "source": [
    "max(seats)"
   ]
  },
  {
   "cell_type": "markdown",
   "metadata": {},
   "source": [
    "<font color = \"Red\">Your puzzle answer was 955. </font>"
   ]
  },
  {
   "cell_type": "markdown",
   "metadata": {},
   "source": [
    "#### Star 2 \n",
    "Your seat wasn't at the very front or back, though; the seats with IDs +1 and -1 from yours will be in your list.\n",
    "\n",
    "What is the ID of your seat?"
   ]
  },
  {
   "cell_type": "code",
   "execution_count": 13,
   "metadata": {
    "ExecuteTime": {
     "end_time": "2020-12-20T14:11:15.144378Z",
     "start_time": "2020-12-20T14:11:15.122236Z"
    }
   },
   "outputs": [],
   "source": [
    "seats.sort()"
   ]
  },
  {
   "cell_type": "code",
   "execution_count": 14,
   "metadata": {
    "ExecuteTime": {
     "end_time": "2020-12-20T14:11:15.159992Z",
     "start_time": "2020-12-20T14:11:15.144378Z"
    }
   },
   "outputs": [],
   "source": [
    "possScores =[]\n",
    "for i in range(len(seats)-2):\n",
    "    if (seats[i+1] - seats[i] == 2):\n",
    "        mySeat = seats[i]+1"
   ]
  },
  {
   "cell_type": "code",
   "execution_count": 15,
   "metadata": {
    "ExecuteTime": {
     "end_time": "2020-12-20T14:11:15.176028Z",
     "start_time": "2020-12-20T14:11:15.159992Z"
    }
   },
   "outputs": [
    {
     "data": {
      "text/plain": [
       "569"
      ]
     },
     "execution_count": 15,
     "metadata": {},
     "output_type": "execute_result"
    }
   ],
   "source": [
    "mySeat"
   ]
  },
  {
   "cell_type": "markdown",
   "metadata": {},
   "source": [
    "<font color=\"Red\"> Your puzzle answer was 569.</font>"
   ]
  }
 ],
 "metadata": {
  "kernelspec": {
   "display_name": "Python 3",
   "language": "python",
   "name": "python3"
  },
  "language_info": {
   "codemirror_mode": {
    "name": "ipython",
    "version": 3
   },
   "file_extension": ".py",
   "mimetype": "text/x-python",
   "name": "python",
   "nbconvert_exporter": "python",
   "pygments_lexer": "ipython3",
   "version": "3.8.2"
  },
  "toc": {
   "base_numbering": 1,
   "nav_menu": {},
   "number_sections": true,
   "sideBar": true,
   "skip_h1_title": false,
   "title_cell": "Table of Contents",
   "title_sidebar": "Contents",
   "toc_cell": false,
   "toc_position": {},
   "toc_section_display": true,
   "toc_window_display": false
  }
 },
 "nbformat": 4,
 "nbformat_minor": 4
}
