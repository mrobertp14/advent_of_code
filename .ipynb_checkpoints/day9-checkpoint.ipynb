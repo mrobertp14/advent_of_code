{
 "cells": [
  {
   "cell_type": "markdown",
   "metadata": {},
   "source": [
    "### Day 9: Encoding Error \n",
    "\n",
    "With your neighbor happily enjoying their video game, you turn your attention to an open data port on the little screen in the seat in front of you.\n",
    "\n",
    "Though the port is non-standard, you manage to connect it to your computer through the clever use of several paperclips. Upon connection, the port outputs a series of numbers (your puzzle input).\n",
    "\n",
    "The data appears to be encrypted with the eXchange-Masking Addition System (XMAS) which, conveniently for you, is an old cypher with an important weakness.\n",
    "\n",
    "XMAS starts by transmitting a preamble of 25 numbers. After that, each number you receive should be the sum of any two of the 25 immediately previous numbers. The two numbers will have different values, and there might be more than one such pair."
   ]
  },
  {
   "cell_type": "code",
   "execution_count": 1,
   "metadata": {
    "ExecuteTime": {
     "end_time": "2020-12-20T15:59:09.332738Z",
     "start_time": "2020-12-20T15:59:02.266553Z"
    }
   },
   "outputs": [],
   "source": [
    "import pandas as pd"
   ]
  },
  {
   "cell_type": "code",
   "execution_count": 2,
   "metadata": {
    "ExecuteTime": {
     "end_time": "2020-12-20T15:59:09.347925Z",
     "start_time": "2020-12-20T15:59:09.332738Z"
    }
   },
   "outputs": [],
   "source": [
    "f = open(\"input09.txt\")"
   ]
  },
  {
   "cell_type": "code",
   "execution_count": 3,
   "metadata": {
    "ExecuteTime": {
     "end_time": "2020-12-20T15:59:09.363513Z",
     "start_time": "2020-12-20T15:59:09.347925Z"
    }
   },
   "outputs": [],
   "source": [
    "inputs = f.read()"
   ]
  },
  {
   "cell_type": "code",
   "execution_count": 4,
   "metadata": {
    "ExecuteTime": {
     "end_time": "2020-12-20T15:59:09.379134Z",
     "start_time": "2020-12-20T15:59:09.363513Z"
    }
   },
   "outputs": [],
   "source": [
    "inputs = inputs.split(\"\\n\")\n"
   ]
  },
  {
   "cell_type": "markdown",
   "metadata": {},
   "source": [
    "#### Star 1\n",
    "\n",
    "The first step of attacking the weakness in the XMAS data is to find the first number in the list (after the preamble) which is not the sum of two of the 25 numbers before it. What is the first number that does not have this property?"
   ]
  },
  {
   "cell_type": "code",
   "execution_count": 5,
   "metadata": {
    "ExecuteTime": {
     "end_time": "2020-12-20T15:59:11.753920Z",
     "start_time": "2020-12-20T15:59:11.713870Z"
    }
   },
   "outputs": [],
   "source": [
    "def xmas(target,arr):\n",
    "    s = set()\n",
    "    pArr = pd.Series(arr)\n",
    "    maxs = target - min(arr)\n",
    "    possNums = pArr[pArr <=maxs]\n",
    "    possNums = possNums.reset_index()\n",
    "    for i in range(len(possNums)):\n",
    "        temp = target-possNums[0][i]\n",
    "        if temp in s:\n",
    "            return True\n",
    "        s.add(possNums[0][i])\n",
    "    return False\n",
    "        \n",
    "    "
   ]
  },
  {
   "cell_type": "code",
   "execution_count": 6,
   "metadata": {
    "ExecuteTime": {
     "end_time": "2020-12-20T15:59:13.632099Z",
     "start_time": "2020-12-20T15:59:12.498051Z"
    }
   },
   "outputs": [
    {
     "name": "stdout",
     "output_type": "stream",
     "text": [
      "217430975\n"
     ]
    }
   ],
   "source": [
    "for i in range(len(inputs)-26):\n",
    "    target = int(inputs[i+25])\n",
    "    arrs  = [int(s) for s in inputs[i:i+25]]\n",
    "    if not xmas(target, arrs):\n",
    "        y = (inputs[i:i+25])\n",
    "        print(inputs[i+25])\n",
    "        \n",
    "        "
   ]
  },
  {
   "cell_type": "markdown",
   "metadata": {},
   "source": [
    "<font color = \"Red\"> Your puzzle answer was 217430975</font>"
   ]
  },
  {
   "cell_type": "markdown",
   "metadata": {},
   "source": [
    "#### Star 2\n",
    "\n",
    "The final step in breaking the XMAS encryption relies on the invalid number you just found: you must find a contiguous set of at least two numbers in your list which sum to the invalid number from step 1.\n",
    "\n",
    "To find the encryption weakness, add together the smallest and largest number in this contiguous range; in this example, these are 15 and 47, producing 62.\n",
    "\n",
    "What is the encryption weakness in your XMAS-encrypted list of numbers?"
   ]
  },
  {
   "cell_type": "code",
   "execution_count": 7,
   "metadata": {
    "ExecuteTime": {
     "end_time": "2020-12-20T15:59:14.914878Z",
     "start_time": "2020-12-20T15:59:14.685745Z"
    }
   },
   "outputs": [
    {
     "name": "stdout",
     "output_type": "stream",
     "text": [
      "470 487 217430975\n",
      "28509180\n"
     ]
    }
   ],
   "source": [
    "def subArray(arr,start, end, target):\n",
    "    total = sum(arr[start:end])\n",
    "    if(total== target):\n",
    "        return arr[0]+ arr[end-1]\n",
    "    if(total > target or end == len(arr)):\n",
    "        return False\n",
    "    return subArray(arr, start, end+1, target)\n",
    "\n",
    "\n",
    "intInputs=[int(s) for s in inputs]\n",
    "for i in range(len(inputs) -1):\n",
    "    subArray(intInputs,i,i+2,217430975)\n",
    "    "
   ]
  },
  {
   "cell_type": "markdown",
   "metadata": {},
   "source": [
    "<font color = \"Red\">Your puzzle answer was 28509180</font>"
   ]
  }
 ],
 "metadata": {
  "kernelspec": {
   "display_name": "Python 3",
   "language": "python",
   "name": "python3"
  },
  "language_info": {
   "codemirror_mode": {
    "name": "ipython",
    "version": 3
   },
   "file_extension": ".py",
   "mimetype": "text/x-python",
   "name": "python",
   "nbconvert_exporter": "python",
   "pygments_lexer": "ipython3",
   "version": "3.8.2"
  },
  "toc": {
   "base_numbering": 1,
   "nav_menu": {},
   "number_sections": true,
   "sideBar": true,
   "skip_h1_title": false,
   "title_cell": "Table of Contents",
   "title_sidebar": "Contents",
   "toc_cell": false,
   "toc_position": {},
   "toc_section_display": true,
   "toc_window_display": false
  }
 },
 "nbformat": 4,
 "nbformat_minor": 4
}
