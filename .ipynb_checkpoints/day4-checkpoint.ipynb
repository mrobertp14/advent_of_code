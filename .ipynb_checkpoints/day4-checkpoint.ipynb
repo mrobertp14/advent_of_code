{
 "cells": [
  {
   "cell_type": "markdown",
   "metadata": {},
   "source": [
    "### Day 4 - Password Processing"
   ]
  },
  {
   "cell_type": "code",
   "execution_count": 1,
   "metadata": {
    "ExecuteTime": {
     "end_time": "2020-12-17T14:39:45.688098Z",
     "start_time": "2020-12-17T14:39:45.659320Z"
    }
   },
   "outputs": [],
   "source": [
    "import re\n",
    "from collections import defaultdict"
   ]
  },
  {
   "cell_type": "code",
   "execution_count": 2,
   "metadata": {
    "ExecuteTime": {
     "end_time": "2020-12-17T14:39:45.703750Z",
     "start_time": "2020-12-17T14:39:45.688098Z"
    }
   },
   "outputs": [],
   "source": [
    "f= open(\"input4.txt\")"
   ]
  },
  {
   "cell_type": "code",
   "execution_count": 3,
   "metadata": {
    "ExecuteTime": {
     "end_time": "2020-12-17T14:39:45.719337Z",
     "start_time": "2020-12-17T14:39:45.703750Z"
    }
   },
   "outputs": [],
   "source": [
    "inputs = f.read()"
   ]
  },
  {
   "cell_type": "code",
   "execution_count": 4,
   "metadata": {
    "ExecuteTime": {
     "end_time": "2020-12-17T14:39:45.734961Z",
     "start_time": "2020-12-17T14:39:45.719337Z"
    }
   },
   "outputs": [],
   "source": [
    "arr = inputs.split(\"\\n\\n\")"
   ]
  },
  {
   "cell_type": "code",
   "execution_count": 5,
   "metadata": {
    "ExecuteTime": {
     "end_time": "2020-12-17T14:39:45.750602Z",
     "start_time": "2020-12-17T14:39:45.734961Z"
    }
   },
   "outputs": [],
   "source": [
    "arr1 = [re.split(\" |\\n\",s) for s in arr]"
   ]
  },
  {
   "cell_type": "code",
   "execution_count": 6,
   "metadata": {
    "ExecuteTime": {
     "end_time": "2020-12-17T14:39:45.766156Z",
     "start_time": "2020-12-17T14:39:45.750602Z"
    }
   },
   "outputs": [],
   "source": [
    "def createMap(arr):\n",
    "    dic = defaultdict()\n",
    "    for i in arr:\n",
    "        x = i.split(\":\")\n",
    "        dic[x[0]] = x[1]\n",
    "        \n",
    "    return dic    "
   ]
  },
  {
   "cell_type": "code",
   "execution_count": 7,
   "metadata": {
    "ExecuteTime": {
     "end_time": "2020-12-17T14:39:45.781804Z",
     "start_time": "2020-12-17T14:39:45.766156Z"
    }
   },
   "outputs": [],
   "source": [
    "arr2 = [createMap(arr) for arr in arr1]"
   ]
  },
  {
   "cell_type": "code",
   "execution_count": 8,
   "metadata": {
    "ExecuteTime": {
     "end_time": "2020-12-17T14:39:45.797445Z",
     "start_time": "2020-12-17T14:39:45.781804Z"
    }
   },
   "outputs": [],
   "source": [
    "def convertYearToString(year):\n",
    "    yr = -1\n",
    "    try:\n",
    "        yr = int(year)\n",
    "    except:\n",
    "        print(\"Year can't be coverted to Integer\")\n",
    "    return yr"
   ]
  },
  {
   "cell_type": "code",
   "execution_count": 9,
   "metadata": {
    "ExecuteTime": {
     "end_time": "2020-12-17T14:39:45.813382Z",
     "start_time": "2020-12-17T14:39:45.797445Z"
    }
   },
   "outputs": [],
   "source": [
    "def byr(year):\n",
    "    valid = False\n",
    "    year = convertYearToString(year)\n",
    "    if  year != -1:\n",
    "        valid = year >= 1920 and year <= 2002\n",
    "    return valid"
   ]
  },
  {
   "cell_type": "code",
   "execution_count": 10,
   "metadata": {
    "ExecuteTime": {
     "end_time": "2020-12-17T14:39:45.828906Z",
     "start_time": "2020-12-17T14:39:45.813382Z"
    }
   },
   "outputs": [],
   "source": [
    "def iyr(year):\n",
    "    valid = False\n",
    "    year = convertYearToString(year)\n",
    "    if  year != -1:\n",
    "        valid = year >=2010 and year <=2020\n",
    "    return valid"
   ]
  },
  {
   "cell_type": "code",
   "execution_count": 11,
   "metadata": {
    "ExecuteTime": {
     "end_time": "2020-12-17T14:39:45.844518Z",
     "start_time": "2020-12-17T14:39:45.828906Z"
    }
   },
   "outputs": [],
   "source": [
    "def eyr(year):\n",
    "    valid = False\n",
    "    year = convertYearToString(year)\n",
    "    if  year != -1:\n",
    "        valid = year >= 2020 and year <=2030\n",
    "    return valid"
   ]
  },
  {
   "cell_type": "code",
   "execution_count": 12,
   "metadata": {
    "ExecuteTime": {
     "end_time": "2020-12-17T14:39:45.860084Z",
     "start_time": "2020-12-17T14:39:45.844518Z"
    }
   },
   "outputs": [],
   "source": [
    "def hgt(hgt):\n",
    "    valid = False \n",
    "    try:\n",
    "        cm = hgt.endswith(\"cm\")\n",
    "        inch =  hgt.endswith(\"in\")\n",
    "        if cm:\n",
    "            aHeight = int(hgt[0:3])\n",
    "            if aHeight >= 150 and aHeight <= 193:\n",
    "                valid = True\n",
    "        elif inch :\n",
    "            aHeight = int(hgt[0:2] )\n",
    "            if aHeight >= 59 and aHeight <=76:\n",
    "                valid =  True\n",
    "    except:\n",
    "        valid = False\n",
    "    return valid"
   ]
  },
  {
   "cell_type": "code",
   "execution_count": 13,
   "metadata": {
    "ExecuteTime": {
     "end_time": "2020-12-17T14:39:45.881729Z",
     "start_time": "2020-12-17T14:39:45.860084Z"
    }
   },
   "outputs": [],
   "source": [
    "def hcl(col):\n",
    "    x = re.findall(\"[g-z]\", col.lower())\n",
    "    valid = col.startswith(\"#\") and len(x) == 0 and len(col) == 7\n",
    "    return valid"
   ]
  },
  {
   "cell_type": "code",
   "execution_count": 14,
   "metadata": {
    "ExecuteTime": {
     "end_time": "2020-12-17T14:39:45.897382Z",
     "start_time": "2020-12-17T14:39:45.881729Z"
    }
   },
   "outputs": [],
   "source": [
    "def pid(pid):\n",
    "    valid = len(pid.strip()) == 9\n",
    "    return valid\n",
    "    "
   ]
  },
  {
   "cell_type": "code",
   "execution_count": 15,
   "metadata": {
    "ExecuteTime": {
     "end_time": "2020-12-17T14:39:45.913014Z",
     "start_time": "2020-12-17T14:39:45.897382Z"
    }
   },
   "outputs": [],
   "source": [
    "def ecl(col):\n",
    "    arr = ['amb', 'blu','brn','gry', 'grn', 'hzl' ,'oth']\n",
    "    return col in arr"
   ]
  },
  {
   "cell_type": "code",
   "execution_count": 16,
   "metadata": {
    "ExecuteTime": {
     "end_time": "2020-12-17T14:39:45.930056Z",
     "start_time": "2020-12-17T14:39:45.914064Z"
    }
   },
   "outputs": [],
   "source": [
    "valid_passports =[]\n",
    "def validPassport1(p):\n",
    "    if len(p) == 8 or len(p) == 7 and not('cid' in p):\n",
    "        valid_passports.append(p)"
   ]
  },
  {
   "cell_type": "code",
   "execution_count": 17,
   "metadata": {
    "ExecuteTime": {
     "end_time": "2020-12-17T14:39:45.945528Z",
     "start_time": "2020-12-17T14:39:45.930056Z"
    }
   },
   "outputs": [],
   "source": [
    "not_valid=[]\n",
    "def validPassport2(p):\n",
    "    valid = byr(p['byr']) and iyr(p['iyr']) and eyr(p['eyr']) and hgt(p['hgt']) and hcl(p['hcl']) and pid(p['pid']) and ecl(p['ecl'])\n",
    "    if not(valid):\n",
    "        not_valid.append(p)    "
   ]
  },
  {
   "cell_type": "code",
   "execution_count": 18,
   "metadata": {
    "ExecuteTime": {
     "end_time": "2020-12-17T14:39:45.961195Z",
     "start_time": "2020-12-17T14:39:45.945528Z"
    }
   },
   "outputs": [],
   "source": [
    "#Check All passports to find Valid ones\n",
    "for i in arr2:\n",
    "    vPass = validPassport1(i)  \n",
    "    "
   ]
  },
  {
   "cell_type": "code",
   "execution_count": 19,
   "metadata": {
    "ExecuteTime": {
     "end_time": "2020-12-17T14:39:45.981838Z",
     "start_time": "2020-12-17T14:39:45.961195Z"
    }
   },
   "outputs": [
    {
     "data": {
      "text/plain": [
       "254"
      ]
     },
     "execution_count": 19,
     "metadata": {},
     "output_type": "execute_result"
    }
   ],
   "source": [
    "star1 = len(valid_passports)\n",
    "star1"
   ]
  },
  {
   "cell_type": "code",
   "execution_count": 20,
   "metadata": {
    "ExecuteTime": {
     "end_time": "2020-12-17T14:39:45.997453Z",
     "start_time": "2020-12-17T14:39:45.981838Z"
    }
   },
   "outputs": [],
   "source": [
    "#Check all valid passports with additional Data Validation\n",
    "for i in valid_passports:\n",
    "    vPass = validPassport2(i)  "
   ]
  },
  {
   "cell_type": "code",
   "execution_count": 21,
   "metadata": {
    "ExecuteTime": {
     "end_time": "2020-12-17T14:39:46.013194Z",
     "start_time": "2020-12-17T14:39:45.997453Z"
    }
   },
   "outputs": [
    {
     "data": {
      "text/plain": [
       "184"
      ]
     },
     "execution_count": 21,
     "metadata": {},
     "output_type": "execute_result"
    }
   ],
   "source": [
    "star2 = star1 - len(not_valid)\n",
    "star2"
   ]
  }
 ],
 "metadata": {
  "kernelspec": {
   "display_name": "Python 3",
   "language": "python",
   "name": "python3"
  },
  "language_info": {
   "codemirror_mode": {
    "name": "ipython",
    "version": 3
   },
   "file_extension": ".py",
   "mimetype": "text/x-python",
   "name": "python",
   "nbconvert_exporter": "python",
   "pygments_lexer": "ipython3",
   "version": "3.8.2"
  },
  "toc": {
   "base_numbering": 1,
   "nav_menu": {},
   "number_sections": true,
   "sideBar": true,
   "skip_h1_title": false,
   "title_cell": "Table of Contents",
   "title_sidebar": "Contents",
   "toc_cell": false,
   "toc_position": {},
   "toc_section_display": true,
   "toc_window_display": false
  }
 },
 "nbformat": 4,
 "nbformat_minor": 4
}
