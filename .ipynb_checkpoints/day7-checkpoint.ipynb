{
 "cells": [
  {
   "cell_type": "markdown",
   "metadata": {},
   "source": [
    "### Day 7: Handy Haversacks\n",
    "\n",
    "You land at the regional airport in time for your next flight. In fact, it looks like you'll even have time to grab some food: all flights are currently delayed due to issues in luggage processing.\n",
    "\n",
    "Due to recent aviation regulations, many rules (your puzzle input) are being enforced about bags and their contents; bags must be color-coded and must contain specific quantities of other color-coded bags. Apparently, nobody responsible for these regulations considered how long they would take to enforce!"
   ]
  },
  {
   "cell_type": "code",
   "execution_count": 13,
   "metadata": {
    "ExecuteTime": {
     "end_time": "2020-12-20T17:36:20.498394Z",
     "start_time": "2020-12-20T17:36:20.482598Z"
    }
   },
   "outputs": [],
   "source": [
    "from collections import defaultdict\n",
    "import numpy as np\n"
   ]
  },
  {
   "cell_type": "code",
   "execution_count": 14,
   "metadata": {
    "ExecuteTime": {
     "end_time": "2020-12-20T17:36:20.515124Z",
     "start_time": "2020-12-20T17:36:20.499464Z"
    }
   },
   "outputs": [],
   "source": [
    "class Node:\n",
    "    amount = 1\n",
    "    def __init__(self, name, amount =1):\n",
    "        self.name = name.rstrip(\"s\").strip()\n",
    "        self.children = []\n",
    "        self.visited =[]\n",
    "        self.amount = amount\n",
    "\n",
    "\n",
    "    def add_children(self, arr):\n",
    "        self.children = arr\n",
    "        self.visited = np.zeros(len(arr))"
   ]
  },
  {
   "cell_type": "code",
   "execution_count": 15,
   "metadata": {
    "ExecuteTime": {
     "end_time": "2020-12-20T17:36:20.530707Z",
     "start_time": "2020-12-20T17:36:20.515124Z"
    }
   },
   "outputs": [],
   "source": [
    "f = open(\"input07.txt\")\n",
    "inputs = f.read()\n",
    "inputs = inputs.split(\"\\n\")"
   ]
  },
  {
   "cell_type": "code",
   "execution_count": 16,
   "metadata": {
    "ExecuteTime": {
     "end_time": "2020-12-20T17:36:20.546372Z",
     "start_time": "2020-12-20T17:36:20.530707Z"
    }
   },
   "outputs": [],
   "source": [
    "outerBags= [s.split(\"contain\")[0].rstrip(\"s \") for s in inputs]\n",
    "innerBags =[s.split(\"contain\")[1][:-1].strip().split(\", \") for s in inputs]\n",
    "dic = dict(zip(outerBags, innerBags))"
   ]
  },
  {
   "cell_type": "markdown",
   "metadata": {},
   "source": [
    "#### Star 1\n",
    "\n",
    "You have a shiny gold bag. If you wanted to carry it in at least one other bag, how many different bag colors would be valid for the outermost bag? (In other words: how many colors can, eventually, contain at least one shiny gold bag?)"
   ]
  },
  {
   "cell_type": "code",
   "execution_count": 17,
   "metadata": {
    "ExecuteTime": {
     "end_time": "2020-12-20T17:36:20.561950Z",
     "start_time": "2020-12-20T17:36:20.546372Z"
    }
   },
   "outputs": [],
   "source": [
    "def findBag(bag):\n",
    "    stack = []\n",
    "    visited = []\n",
    "    stack.append(bag)\n",
    "    while (len(stack) > 0):\n",
    "        nextBag = stack.pop().rstrip(\"s\")\n",
    "        bags = dic[nextBag]\n",
    "        for i in bags:\n",
    "            b = i[1:].strip()\n",
    "            if b == 'shiny gold bag' or b == 'shiny gold bags':\n",
    "                return 1\n",
    "            if b not in visited and i != \"no other bags\":\n",
    "                visited.append(b.strip())\n",
    "                stack.append(b)\n",
    "    return 0\n",
    "\n"
   ]
  },
  {
   "cell_type": "code",
   "execution_count": 18,
   "metadata": {
    "ExecuteTime": {
     "end_time": "2020-12-20T17:36:20.645140Z",
     "start_time": "2020-12-20T17:36:20.561950Z"
    }
   },
   "outputs": [
    {
     "name": "stdout",
     "output_type": "stream",
     "text": [
      "224\n"
     ]
    }
   ],
   "source": [
    "goldBags = 0\n",
    "for i in outerBags:\n",
    "    x = findBag(i)\n",
    "    goldBags +=x\n",
    "print(goldBags)"
   ]
  },
  {
   "cell_type": "markdown",
   "metadata": {},
   "source": [
    "<font color = \"Red\"> Your puzzle answer was 224.</font>"
   ]
  },
  {
   "cell_type": "markdown",
   "metadata": {},
   "source": [
    "#### Star 2 \n",
    "\n",
    "You have a shiny gold bag. According to previous rules  how many individual bags are required inside your single shiny gold bag?"
   ]
  },
  {
   "cell_type": "code",
   "execution_count": 19,
   "metadata": {
    "ExecuteTime": {
     "end_time": "2020-12-20T17:36:20.660796Z",
     "start_time": "2020-12-20T17:36:20.645140Z"
    }
   },
   "outputs": [],
   "source": [
    "nodes = [Node(s) for s in outerBags]\n",
    "bagDic = defaultdict()\n",
    "for i in range(len(innerBags)):\n",
    "    inBags = []\n",
    "    for s in innerBags[i]:\n",
    "        inBags.append(Node(s[1:], s[0]))\n",
    "    bagDic[outerBags[i]] = inBags"
   ]
  },
  {
   "cell_type": "code",
   "execution_count": 20,
   "metadata": {
    "ExecuteTime": {
     "end_time": "2020-12-20T17:36:20.676529Z",
     "start_time": "2020-12-20T17:36:20.660796Z"
    }
   },
   "outputs": [],
   "source": [
    "finalTotal = []\n",
    "def DFSutil2(node, total):\n",
    "        total = (int(total)  * int(node.amount))\n",
    "        finalTotal.append(total)\n",
    "        for i in bagDic[node.name]:\n",
    "            if  not 'other bag' in i.name :\n",
    "                DFSutil2(i, total)\n",
    "\n",
    "\n",
    "def DFS2(node):\n",
    "    bags = bagDic[node.name]\n",
    "    total = int(node.amount)\n",
    "    for b in bags:\n",
    "        DFSutil2(b, total)"
   ]
  },
  {
   "cell_type": "code",
   "execution_count": 21,
   "metadata": {
    "ExecuteTime": {
     "end_time": "2020-12-20T17:36:20.698198Z",
     "start_time": "2020-12-20T17:36:20.676529Z"
    }
   },
   "outputs": [
    {
     "name": "stdout",
     "output_type": "stream",
     "text": [
      "1488\n"
     ]
    }
   ],
   "source": [
    "n = Node('shiny gold bag')\n",
    "DFS2(n)\n",
    "print(sum(finalTotal))"
   ]
  },
  {
   "cell_type": "markdown",
   "metadata": {},
   "source": [
    "<font color = \"Red\"> Your puzzle answer was 1488</font>"
   ]
  }
 ],
 "metadata": {
  "kernelspec": {
   "display_name": "Python 3",
   "language": "python",
   "name": "python3"
  },
  "language_info": {
   "codemirror_mode": {
    "name": "ipython",
    "version": 3
   },
   "file_extension": ".py",
   "mimetype": "text/x-python",
   "name": "python",
   "nbconvert_exporter": "python",
   "pygments_lexer": "ipython3",
   "version": "3.8.2"
  },
  "toc": {
   "base_numbering": 1,
   "nav_menu": {},
   "number_sections": true,
   "sideBar": true,
   "skip_h1_title": false,
   "title_cell": "Table of Contents",
   "title_sidebar": "Contents",
   "toc_cell": false,
   "toc_position": {},
   "toc_section_display": true,
   "toc_window_display": false
  }
 },
 "nbformat": 4,
 "nbformat_minor": 4
}
