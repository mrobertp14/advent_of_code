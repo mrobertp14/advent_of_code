{
 "cells": [
  {
   "cell_type": "markdown",
   "metadata": {
    "ExecuteTime": {
     "end_time": "2020-12-17T15:39:47.562332Z",
     "start_time": "2020-12-17T15:39:47.533391Z"
    }
   },
   "source": [
    "### Day 6: Custom Customs\n",
    "\n"
   ]
  },
  {
   "cell_type": "markdown",
   "metadata": {},
   "source": [
    "#### Star 2 - \n",
    "The form asks a series of 26 yes-or-no questions marked a through z. All you need to do is identify the questions for which anyone in your group answers \"yes\". Since your group is just you, this doesn't take very long.\n",
    "\n",
    "However, the person sitting next to you seems to be experiencing a language barrier and asks if you can help. For each of the people in their group, you write down the questions for which they answer \"yes\", one per line. For example:\n",
    "\n",
    "abcx\n",
    "abcy\n",
    "abcz\n",
    "\n",
    "In this group, there are 6 questions to which anyone answered \"yes\": a, b, c, x, y, and z. (Duplicate answers to the same question don't count extra; each question counts at most once.)"
   ]
  },
  {
   "cell_type": "code",
   "execution_count": 83,
   "metadata": {
    "ExecuteTime": {
     "end_time": "2020-12-20T14:30:48.278761Z",
     "start_time": "2020-12-20T14:30:48.231891Z"
    }
   },
   "outputs": [],
   "source": [
    "f = open(\"input06.txt\")\n",
    "inputs = f.read()\n",
    "inputs = inputs.split(\"\\n\\n\")\n",
    "inputsA = [(set(s)) for s in inputs]"
   ]
  },
  {
   "cell_type": "code",
   "execution_count": 84,
   "metadata": {
    "ExecuteTime": {
     "end_time": "2020-12-20T14:30:48.780401Z",
     "start_time": "2020-12-20T14:30:48.764741Z"
    }
   },
   "outputs": [],
   "source": [
    "star1 = [len(s) for s in inputsA]\n",
    "removeLineBreak = [(\"\\n\") in s for s in inputsA]"
   ]
  },
  {
   "cell_type": "code",
   "execution_count": 85,
   "metadata": {
    "ExecuteTime": {
     "end_time": "2020-12-20T14:30:49.265336Z",
     "start_time": "2020-12-20T14:30:49.249713Z"
    }
   },
   "outputs": [
    {
     "data": {
      "text/plain": [
       "6532"
      ]
     },
     "execution_count": 85,
     "metadata": {},
     "output_type": "execute_result"
    }
   ],
   "source": [
    "sum(star1) - sum(removeLineBreak)"
   ]
  },
  {
   "cell_type": "markdown",
   "metadata": {},
   "source": [
    "<font color=\"Red\">Your puzzle answer was 6532.</font>"
   ]
  },
  {
   "cell_type": "markdown",
   "metadata": {},
   "source": [
    "#### Star 2 -\n",
    "As you finish the last group's customs declaration, you notice that you misread one word in the instructions:\n",
    "\n",
    "You don't need to identify the questions to which anyone answered \"yes\"; you need to identify the questions to which everyone answered \"yes\"!"
   ]
  },
  {
   "cell_type": "code",
   "execution_count": 86,
   "metadata": {
    "ExecuteTime": {
     "end_time": "2020-12-20T14:30:51.087512Z",
     "start_time": "2020-12-20T14:30:51.071926Z"
    }
   },
   "outputs": [],
   "source": [
    "inputsB = [s.split(\"\\n\") for s in inputs]"
   ]
  },
  {
   "cell_type": "code",
   "execution_count": 91,
   "metadata": {
    "ExecuteTime": {
     "end_time": "2020-12-20T14:31:27.763358Z",
     "start_time": "2020-12-20T14:31:27.733975Z"
    }
   },
   "outputs": [],
   "source": [
    "def valid(input1, input2):\n",
    "    total = 0\n",
    "    for i in input1:\n",
    "        count = 0\n",
    "        for j in input2:\n",
    "            if j.find(i) == -1: \n",
    "                break\n",
    "            count +=1\n",
    "        if count == len(input2):\n",
    "            total+=1           \n",
    "    return total\n",
    "        \n",
    "        "
   ]
  },
  {
   "cell_type": "code",
   "execution_count": 92,
   "metadata": {
    "ExecuteTime": {
     "end_time": "2020-12-20T14:31:28.403123Z",
     "start_time": "2020-12-20T14:31:28.387504Z"
    }
   },
   "outputs": [],
   "source": [
    "finalTotal = 0\n",
    "for i in range(len(inputsA)):\n",
    "    finalTotal +=  valid(inputsA[i], inputsB[i])"
   ]
  },
  {
   "cell_type": "code",
   "execution_count": 93,
   "metadata": {
    "ExecuteTime": {
     "end_time": "2020-12-20T14:31:30.492664Z",
     "start_time": "2020-12-20T14:31:30.463139Z"
    }
   },
   "outputs": [
    {
     "data": {
      "text/plain": [
       "3427"
      ]
     },
     "execution_count": 93,
     "metadata": {},
     "output_type": "execute_result"
    }
   ],
   "source": [
    "#star2\n",
    "finalTotal"
   ]
  },
  {
   "cell_type": "markdown",
   "metadata": {},
   "source": [
    "<font color=\"Red\">Your puzzle answer was 3427.</font>"
   ]
  }
 ],
 "metadata": {
  "kernelspec": {
   "display_name": "Python 3",
   "language": "python",
   "name": "python3"
  },
  "language_info": {
   "codemirror_mode": {
    "name": "ipython",
    "version": 3
   },
   "file_extension": ".py",
   "mimetype": "text/x-python",
   "name": "python",
   "nbconvert_exporter": "python",
   "pygments_lexer": "ipython3",
   "version": "3.8.2"
  },
  "toc": {
   "base_numbering": 1,
   "nav_menu": {},
   "number_sections": true,
   "sideBar": true,
   "skip_h1_title": false,
   "title_cell": "Table of Contents",
   "title_sidebar": "Contents",
   "toc_cell": false,
   "toc_position": {},
   "toc_section_display": true,
   "toc_window_display": false
  }
 },
 "nbformat": 4,
 "nbformat_minor": 4
}
