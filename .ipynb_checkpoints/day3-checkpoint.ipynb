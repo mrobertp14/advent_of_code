{
 "cells": [
  {
   "cell_type": "markdown",
   "metadata": {},
   "source": [
    "### Day 3  - Toboggan Trajectory\n",
    "\n",
    "With the toboggan login problems resolved, you set off toward the airport. While travel by toboggan might be easy, it's certainly not safe: there's very minimal steering and the area is covered in trees. You'll need to see which angles will take you near the fewest trees.\n",
    "\n",
    "Due to the local geology, trees in this area only grow on exact integer coordinates in a grid. You make a map (your puzzle input) of the open squares (.) and trees (#) you can see. \n",
    "\n",
    "These aren't the only trees, though; due to something you read about once involving arboreal genetics and biome stability, the same pattern repeats to the right many times:"
   ]
  },
  {
   "cell_type": "code",
   "execution_count": 1,
   "metadata": {
    "ExecuteTime": {
     "end_time": "2020-12-17T15:11:04.014108Z",
     "start_time": "2020-12-17T15:11:03.971228Z"
    }
   },
   "outputs": [],
   "source": [
    "f = open(\"input3.txt\")"
   ]
  },
  {
   "cell_type": "code",
   "execution_count": 2,
   "metadata": {
    "ExecuteTime": {
     "end_time": "2020-12-17T15:11:04.241299Z",
     "start_time": "2020-12-17T15:11:04.187460Z"
    }
   },
   "outputs": [],
   "source": [
    "inputs = f.read()"
   ]
  },
  {
   "cell_type": "code",
   "execution_count": 3,
   "metadata": {
    "ExecuteTime": {
     "end_time": "2020-12-17T15:11:04.472235Z",
     "start_time": "2020-12-17T15:11:04.434860Z"
    }
   },
   "outputs": [],
   "source": [
    "ls = inputs.split(\"\\n\")"
   ]
  },
  {
   "cell_type": "code",
   "execution_count": 4,
   "metadata": {
    "ExecuteTime": {
     "end_time": "2020-12-17T15:11:04.691756Z",
     "start_time": "2020-12-17T15:11:04.651806Z"
    }
   },
   "outputs": [],
   "source": [
    "def split(word):\n",
    "    return [char for char in word]"
   ]
  },
  {
   "cell_type": "code",
   "execution_count": 5,
   "metadata": {
    "ExecuteTime": {
     "end_time": "2020-12-17T15:11:05.189934Z",
     "start_time": "2020-12-17T15:11:05.180746Z"
    }
   },
   "outputs": [],
   "source": [
    "matrix = [split(i) for i in ls]"
   ]
  },
  {
   "cell_type": "markdown",
   "metadata": {
    "ExecuteTime": {
     "end_time": "2020-12-05T17:40:57.062170Z",
     "start_time": "2020-12-05T17:40:57.046636Z"
    }
   },
   "source": [
    "#### Star 1\n",
    "\n",
    "You start on the open square (.) in the top-left corner and need to reach the bottom (below the bottom-most row on your map).\n",
    "\n",
    "The toboggan can only follow a few specific slopes (you opted for a cheaper model that prefers rational numbers); start by counting all the trees you would encounter for the slope right 3, down 1:\n",
    "\n",
    "From your starting position at the top-left, check the position that is right 3 and down 1. Then, check the position that is right 3 and down 1 from there, and so on until you go past the bottom of the map.\n"
   ]
  },
  {
   "cell_type": "code",
   "execution_count": 27,
   "metadata": {
    "ExecuteTime": {
     "end_time": "2020-12-05T17:43:20.846929Z",
     "start_time": "2020-12-05T17:43:20.833504Z"
    }
   },
   "outputs": [],
   "source": [
    "\n",
    "def traverse_slopes(down, right):\n",
    "    width = len(matrix[0])\n",
    "    height = len(matrix)\n",
    "    row =0\n",
    "    col=0\n",
    "    tree = 0\n",
    "    while (True):\n",
    "        if(matrix[row][col] == \"#\"):\n",
    "            tree +=1\n",
    "        col = (col + right) % width\n",
    "        row += down \n",
    "        if(row == height-down+1):\n",
    "            break\n",
    "    return tree"
   ]
  },
  {
   "cell_type": "code",
   "execution_count": 28,
   "metadata": {
    "ExecuteTime": {
     "end_time": "2020-12-05T17:43:21.049542Z",
     "start_time": "2020-12-05T17:43:21.020887Z"
    }
   },
   "outputs": [
    {
     "data": {
      "text/plain": [
       "169"
      ]
     },
     "execution_count": 28,
     "metadata": {},
     "output_type": "execute_result"
    }
   ],
   "source": [
    "#Star1 \n",
    "traverse_slopes(1, 3)"
   ]
  },
  {
   "cell_type": "markdown",
   "metadata": {},
   "source": [
    "#### Star 2\n",
    "\n",
    "Time to check the rest of the slopes - you need to minimize the probability of a sudden arboreal stop, after all.\n",
    "\n",
    "Determine the number of trees you would encounter if, for each of the following slopes, you start at the top-left corner and traverse the map all the way to the bottom:\n",
    "\n",
    "    Right 1, down 1.\n",
    "    Right 3, down 1. (This is the slope you already checked.)\n",
    "    Right 5, down 1.\n",
    "    Right 7, down 1.\n",
    "    Right 1, down 2.\n"
   ]
  },
  {
   "cell_type": "code",
   "execution_count": 29,
   "metadata": {
    "ExecuteTime": {
     "end_time": "2020-12-05T17:43:21.350087Z",
     "start_time": "2020-12-05T17:43:21.311796Z"
    }
   },
   "outputs": [
    {
     "data": {
      "text/plain": [
       "7560370818"
      ]
     },
     "execution_count": 29,
     "metadata": {},
     "output_type": "execute_result"
    }
   ],
   "source": [
    "# star2\n",
    "traverse_slopes(1,1) * traverse_slopes(1,3) * traverse_slopes(1,5) * traverse_slopes(1,7) * traverse_slopes(2,1)"
   ]
  },
  {
   "cell_type": "code",
   "execution_count": null,
   "metadata": {},
   "outputs": [],
   "source": []
  }
 ],
 "metadata": {
  "kernelspec": {
   "display_name": "Python 3",
   "language": "python",
   "name": "python3"
  },
  "language_info": {
   "codemirror_mode": {
    "name": "ipython",
    "version": 3
   },
   "file_extension": ".py",
   "mimetype": "text/x-python",
   "name": "python",
   "nbconvert_exporter": "python",
   "pygments_lexer": "ipython3",
   "version": "3.8.2"
  },
  "toc": {
   "base_numbering": 1,
   "nav_menu": {},
   "number_sections": true,
   "sideBar": true,
   "skip_h1_title": false,
   "title_cell": "Table of Contents",
   "title_sidebar": "Contents",
   "toc_cell": false,
   "toc_position": {},
   "toc_section_display": true,
   "toc_window_display": false
  }
 },
 "nbformat": 4,
 "nbformat_minor": 4
}
