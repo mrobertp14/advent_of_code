{
 "cells": [
  {
   "cell_type": "markdown",
   "metadata": {},
   "source": [
    "### Day 2 - Password Philosphy\n",
    "\n",
    "Their password database seems to be a little corrupted: some of the passwords wouldn't have been allowed by the Official Toboggan Corporate Policy that was in effect when they were chosen.\n",
    "\n",
    "To try to debug the problem, they have created a list (your puzzle input) of passwords (according to the corrupted database) and the corporate policy when that password was set.\n",
    "\n",
    "For example, suppose you have the following list:\n",
    "\n",
    "1-3 a: abcde\n",
    "1-3 b: cdefg\n",
    "2-9 c: ccccccccc\n",
    "\n",
    "Each line gives the password policy and then the password. The password policy indicates the lowest and highest number of times a given letter must appear for the password to be valid. For example, 1-3 a means that the password must contain a at least 1 time and at most 3 times."
   ]
  },
  {
   "cell_type": "code",
   "execution_count": 1,
   "metadata": {
    "ExecuteTime": {
     "end_time": "2020-12-05T17:41:50.858092Z",
     "start_time": "2020-12-05T17:41:50.842122Z"
    }
   },
   "outputs": [],
   "source": [
    "import re"
   ]
  },
  {
   "cell_type": "code",
   "execution_count": 2,
   "metadata": {
    "ExecuteTime": {
     "end_time": "2020-12-05T17:41:50.895382Z",
     "start_time": "2020-12-05T17:41:50.858092Z"
    }
   },
   "outputs": [],
   "source": [
    "f = open(\"input2.txt\")"
   ]
  },
  {
   "cell_type": "code",
   "execution_count": 3,
   "metadata": {
    "ExecuteTime": {
     "end_time": "2020-12-05T17:41:50.911255Z",
     "start_time": "2020-12-05T17:41:50.895382Z"
    }
   },
   "outputs": [],
   "source": [
    "inputs = f.read()"
   ]
  },
  {
   "cell_type": "code",
   "execution_count": 4,
   "metadata": {
    "ExecuteTime": {
     "end_time": "2020-12-05T17:41:50.926811Z",
     "start_time": "2020-12-05T17:41:50.911255Z"
    }
   },
   "outputs": [],
   "source": [
    "inputsA =inputs.split(\"\\n\")"
   ]
  },
  {
   "cell_type": "code",
   "execution_count": 5,
   "metadata": {
    "ExecuteTime": {
     "end_time": "2020-12-05T17:41:50.942509Z",
     "start_time": "2020-12-05T17:41:50.926811Z"
    }
   },
   "outputs": [],
   "source": [
    "def splitString(aStr):\n",
    "    return re.split(\"-|:| \", aStr)"
   ]
  },
  {
   "cell_type": "code",
   "execution_count": 6,
   "metadata": {
    "ExecuteTime": {
     "end_time": "2020-12-05T17:41:50.958235Z",
     "start_time": "2020-12-05T17:41:50.942509Z"
    }
   },
   "outputs": [],
   "source": [
    "def minMax(mins, maxs, letter, password):\n",
    "    count = password.count(letter)\n",
    "    return count >= mins and count <=maxs"
   ]
  },
  {
   "cell_type": "code",
   "execution_count": 7,
   "metadata": {
    "ExecuteTime": {
     "end_time": "2020-12-05T17:41:50.979938Z",
     "start_time": "2020-12-05T17:41:50.958235Z"
    }
   },
   "outputs": [],
   "source": [
    "def validPassword(indexA, indexB, letter, password):\n",
    "    x, y = password[indexA-1], password[indexB-1]\n",
    "    boolA = x==letter \n",
    "    boolB = y==letter\n",
    "    return (boolA ^ boolB) # Xor"
   ]
  },
  {
   "cell_type": "code",
   "execution_count": 8,
   "metadata": {
    "ExecuteTime": {
     "end_time": "2020-12-05T17:41:51.011111Z",
     "start_time": "2020-12-05T17:41:50.979938Z"
    }
   },
   "outputs": [
    {
     "data": {
      "text/plain": [
       "506"
      ]
     },
     "execution_count": 8,
     "metadata": {},
     "output_type": "execute_result"
    }
   ],
   "source": [
    "#Star1\n",
    "total = 0\n",
    "for i in inputsA:\n",
    "    sStr = splitString(i)\n",
    "    if (minMax(int(sStr[0]),int(sStr[1]), sStr[2], sStr[4])):\n",
    "        total +=1\n",
    "total"
   ]
  },
  {
   "cell_type": "code",
   "execution_count": 9,
   "metadata": {
    "ExecuteTime": {
     "end_time": "2020-12-05T17:41:51.026730Z",
     "start_time": "2020-12-05T17:41:51.011111Z"
    }
   },
   "outputs": [
    {
     "data": {
      "text/plain": [
       "443"
      ]
     },
     "execution_count": 9,
     "metadata": {},
     "output_type": "execute_result"
    }
   ],
   "source": [
    "#Star2\n",
    "total = 0\n",
    "for i in inputsA:\n",
    "    sStr = splitString(i)\n",
    "    if (validPassword(int(sStr[0]),int(sStr[1]), sStr[2], sStr[4])):\n",
    "        total +=1\n",
    "total"
   ]
  }
 ],
 "metadata": {
  "kernelspec": {
   "display_name": "Python 3",
   "language": "python",
   "name": "python3"
  },
  "language_info": {
   "codemirror_mode": {
    "name": "ipython",
    "version": 3
   },
   "file_extension": ".py",
   "mimetype": "text/x-python",
   "name": "python",
   "nbconvert_exporter": "python",
   "pygments_lexer": "ipython3",
   "version": "3.8.2"
  },
  "toc": {
   "base_numbering": 1,
   "nav_menu": {},
   "number_sections": true,
   "sideBar": true,
   "skip_h1_title": false,
   "title_cell": "Table of Contents",
   "title_sidebar": "Contents",
   "toc_cell": false,
   "toc_position": {},
   "toc_section_display": true,
   "toc_window_display": false
  }
 },
 "nbformat": 4,
 "nbformat_minor": 4
}
