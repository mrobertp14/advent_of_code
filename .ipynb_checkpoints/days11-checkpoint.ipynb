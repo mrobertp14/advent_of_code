{
 "cells": [
  {
   "cell_type": "code",
   "execution_count": 1,
   "metadata": {
    "ExecuteTime": {
     "end_time": "2020-12-20T21:19:17.822676Z",
     "start_time": "2020-12-20T21:19:17.780946Z"
    }
   },
   "outputs": [],
   "source": [
    "import re\n",
    "from copy import deepcopy"
   ]
  },
  {
   "cell_type": "code",
   "execution_count": 2,
   "metadata": {
    "ExecuteTime": {
     "end_time": "2020-12-20T21:19:28.982528Z",
     "start_time": "2020-12-20T21:19:28.935334Z"
    }
   },
   "outputs": [],
   "source": [
    "f = open (\"input11.txt\")\n",
    "inputs = f.read()\n",
    "inputs = inputs.split(\"\\n\")\n",
    "inputs = [re.split(\"\",i)[1:-1] for i in inputs]"
   ]
  },
  {
   "cell_type": "code",
   "execution_count": 3,
   "metadata": {
    "ExecuteTime": {
     "end_time": "2020-12-20T21:19:47.289097Z",
     "start_time": "2020-12-20T21:19:47.252024Z"
    }
   },
   "outputs": [],
   "source": [
    "def isSeatEmpty(row, col, seatPlan):\n",
    "    return seatPlan[row][col] == \"L\"\n",
    "\n",
    "def isSeatOccupied(row,col, seatPlan):\n",
    "    return seatPlan[row][col] == \"#\"\n",
    "\n",
    "def sitDown(seatPlan):\n",
    "    x = seatPlan.count(\"L\")\n",
    "    y = seatPlan.count(\".\")\n",
    "    return x+y == len(seatPlan)\n",
    "\n",
    "def leaveSeat(seatPlan):\n",
    "    return seatPlan.count(\"#\") >= 5"
   ]
  },
  {
   "cell_type": "code",
   "execution_count": 4,
   "metadata": {
    "ExecuteTime": {
     "end_time": "2020-12-20T21:20:19.690729Z",
     "start_time": "2020-12-20T21:20:19.675148Z"
    }
   },
   "outputs": [],
   "source": [
    "directions = [(-1, -1),   (-1, 0),   (-1, 1),\n",
    "                  (0, 1),                 (1, 1),\n",
    "                  (1, 0),     (1, -1),    (0, -1)]"
   ]
  },
  {
   "cell_type": "code",
   "execution_count": 5,
   "metadata": {
    "ExecuteTime": {
     "end_time": "2020-12-20T21:20:30.293534Z",
     "start_time": "2020-12-20T21:20:30.277898Z"
    }
   },
   "outputs": [],
   "source": []
  },
  {
   "cell_type": "code",
   "execution_count": 6,
   "metadata": {
    "ExecuteTime": {
     "end_time": "2020-12-20T21:20:46.649726Z",
     "start_time": "2020-12-20T21:20:46.633891Z"
    }
   },
   "outputs": [],
   "source": [
    "def fetchAdj(row, col, arr):\n",
    "    st = \"\"\n",
    "    for i in directions:\n",
    "        try:\n",
    "            r = row+i[0]\n",
    "            c  =col +i[1]\n",
    "            if r >= 0 and c >=0:\n",
    "                st += arr[r][c]\n",
    "        except:\n",
    "            st\n",
    "    return st"
   ]
  },
  {
   "cell_type": "code",
   "execution_count": 7,
   "metadata": {
    "ExecuteTime": {
     "end_time": "2020-12-20T21:20:59.021770Z",
     "start_time": "2020-12-20T21:20:59.012087Z"
    }
   },
   "outputs": [],
   "source": [
    "def direction(row,col,arr, directions):\n",
    "    row += directions[0]\n",
    "    col += directions[1]\n",
    "    if row < 0 or col < 0 or row >= len(arr) or col >= len(arr[0]):\n",
    "        return \".\"\n",
    "    seat = arr[row][col]\n",
    "    if seat == \"#\" or seat == \"L\" and row >= 0 and col >=0:\n",
    "        return seat\n",
    "    return direction(row, col , arr, directions)"
   ]
  },
  {
   "cell_type": "code",
   "execution_count": 8,
   "metadata": {
    "ExecuteTime": {
     "end_time": "2020-12-20T21:21:09.239867Z",
     "start_time": "2020-12-20T21:21:09.224411Z"
    }
   },
   "outputs": [],
   "source": [
    "def fetchAdj2(row, col, arr):\n",
    "    st = \"\"\n",
    "    for i in directions:\n",
    "        st += direction(row,col,arr,i)\n",
    "    return st"
   ]
  },
  {
   "cell_type": "code",
   "execution_count": 9,
   "metadata": {
    "ExecuteTime": {
     "end_time": "2020-12-20T21:21:40.309719Z",
     "start_time": "2020-12-20T21:21:40.289448Z"
    }
   },
   "outputs": [],
   "source": [
    "def seatWaitingRoom(arr, people):\n",
    "    width = len(arr[0])\n",
    "    height = len(arr)\n",
    "    newArr = deepcopy(arr)\n",
    "\n",
    "    for row in range(height):\n",
    "        for col in range(width):\n",
    "            adjSeats = fetchAdj2(row, col, arr)\n",
    "            if isSeatEmpty(row, col, arr):\n",
    "                if sitDown(adjSeats):\n",
    "                    newArr[row][col]=(\"#\")\n",
    "                    people += 1\n",
    "            elif isSeatOccupied(row,col, arr):\n",
    "                if leaveSeat(adjSeats):\n",
    "                    newArr[row][col]=\"L\"\n",
    "                    people -= 1\n",
    "    return newArr, people"
   ]
  },
  {
   "cell_type": "code",
   "execution_count": 11,
   "metadata": {
    "ExecuteTime": {
     "end_time": "2020-12-20T21:22:21.953520Z",
     "start_time": "2020-12-20T21:22:18.047272Z"
    }
   },
   "outputs": [
    {
     "name": "stdout",
     "output_type": "stream",
     "text": [
      "1974 1974\n"
     ]
    }
   ],
   "source": [
    "seatsOccupied = 0\n",
    "newSeatingPlan, seatsOccupied = seatWaitingRoom(inputs, seatsOccupied)\n",
    "\n",
    "while True:\n",
    "    prevSeatsOccupied = seatsOccupied\n",
    "    newSeatingPlan, seatsOccupied = seatWaitingRoom(newSeatingPlan, seatsOccupied)\n",
    "    if prevSeatsOccupied == seatsOccupied:\n",
    "        break\n",
    "        \n",
    "print(seatsOccupied, prevSeatsOccupied)"
   ]
  },
  {
   "cell_type": "code",
   "execution_count": null,
   "metadata": {},
   "outputs": [],
   "source": []
  }
 ],
 "metadata": {
  "kernelspec": {
   "display_name": "Python 3",
   "language": "python",
   "name": "python3"
  },
  "language_info": {
   "codemirror_mode": {
    "name": "ipython",
    "version": 3
   },
   "file_extension": ".py",
   "mimetype": "text/x-python",
   "name": "python",
   "nbconvert_exporter": "python",
   "pygments_lexer": "ipython3",
   "version": "3.8.2"
  },
  "toc": {
   "base_numbering": 1,
   "nav_menu": {},
   "number_sections": true,
   "sideBar": true,
   "skip_h1_title": false,
   "title_cell": "Table of Contents",
   "title_sidebar": "Contents",
   "toc_cell": false,
   "toc_position": {},
   "toc_section_display": true,
   "toc_window_display": false
  }
 },
 "nbformat": 4,
 "nbformat_minor": 4
}
