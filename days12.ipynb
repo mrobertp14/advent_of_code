{
 "cells": [
  {
   "cell_type": "code",
   "execution_count": 1,
   "metadata": {
    "ExecuteTime": {
     "end_time": "2020-12-20T21:29:17.364493Z",
     "start_time": "2020-12-20T21:29:17.325336Z"
    }
   },
   "outputs": [],
   "source": [
    "\n",
    "class Ship:\n",
    "\n",
    "    def __init__(self):\n",
    "        self.direction = 90\n",
    "        self.compass = {0: 'N', 90: 'E', 180: 'S', 270: 'W'}\n",
    "        self.cardinalValue = {'N':0, 'E':0, 'S':0, 'W':0}\n",
    "\n",
    "    def turn(self, turn, degree):\n",
    "        if turn == 'R':\n",
    "            self.direction = (self.direction + degree) % 360\n",
    "        else:\n",
    "            self.direction = (self.direction - degree) % 360\n",
    "\n",
    "    def move(self, direction, steps):\n",
    "        if (direction == 'F'):\n",
    "            direction = self.compass[self.direction]\n",
    "        self.cardinalValue[direction] += steps\n",
    "\n",
    "    def instruction(self, instruction, num):\n",
    "        num = int(num)\n",
    "        if (instruction != 'R' and instruction != 'L'):\n",
    "            self.move(instruction, num)\n",
    "        else:\n",
    "            self.turn(instruction, num)"
   ]
  },
  {
   "cell_type": "code",
   "execution_count": 2,
   "metadata": {
    "ExecuteTime": {
     "end_time": "2020-12-20T21:29:17.641195Z",
     "start_time": "2020-12-20T21:29:17.625613Z"
    }
   },
   "outputs": [],
   "source": [
    "f = open(\"day12.txt\")"
   ]
  },
  {
   "cell_type": "code",
   "execution_count": 3,
   "metadata": {
    "ExecuteTime": {
     "end_time": "2020-12-20T21:29:17.847400Z",
     "start_time": "2020-12-20T21:29:17.805264Z"
    }
   },
   "outputs": [],
   "source": [
    "inputs = f.read()"
   ]
  },
  {
   "cell_type": "code",
   "execution_count": 4,
   "metadata": {
    "ExecuteTime": {
     "end_time": "2020-12-20T21:29:18.005517Z",
     "start_time": "2020-12-20T21:29:17.991910Z"
    }
   },
   "outputs": [],
   "source": [
    "inputs = inputs.split(\"\\n\")"
   ]
  },
  {
   "cell_type": "code",
   "execution_count": 5,
   "metadata": {
    "ExecuteTime": {
     "end_time": "2020-12-20T21:29:18.574153Z",
     "start_time": "2020-12-20T21:29:18.559026Z"
    }
   },
   "outputs": [],
   "source": [
    "ship = Ship()"
   ]
  },
  {
   "cell_type": "code",
   "execution_count": 6,
   "metadata": {
    "ExecuteTime": {
     "end_time": "2020-12-20T21:29:19.191411Z",
     "start_time": "2020-12-20T21:29:19.175654Z"
    }
   },
   "outputs": [],
   "source": [
    "for i in inputs:\n",
    "    ship.instruction(i[0], i[1:])"
   ]
  },
  {
   "cell_type": "code",
   "execution_count": 7,
   "metadata": {
    "ExecuteTime": {
     "end_time": "2020-12-20T21:29:19.836107Z",
     "start_time": "2020-12-20T21:29:19.792482Z"
    }
   },
   "outputs": [
    {
     "name": "stdout",
     "output_type": "stream",
     "text": [
      "882\n"
     ]
    }
   ],
   "source": [
    "print(abs(ship.cardinalValue['N']-ship.cardinalValue['S']) + abs(ship.cardinalValue['E'] - ship.cardinalValue['W']))"
   ]
  },
  {
   "cell_type": "code",
   "execution_count": 8,
   "metadata": {
    "ExecuteTime": {
     "end_time": "2020-12-20T21:29:20.727369Z",
     "start_time": "2020-12-20T21:29:20.717870Z"
    }
   },
   "outputs": [],
   "source": [
    "class Ship2:\n",
    "\n",
    "    def __init__(self):\n",
    "        self.compass = {0: 'N', 90: 'E', 180: 'S', 270: 'W'}\n",
    "        self.waypoint = waypoint()\n",
    "\n",
    "\n",
    "    def turn(self, turn, degree):\n",
    "        self.waypoint.rotateWaypoint(turn, degree)\n",
    "\n",
    "    def move(self, steps):\n",
    "        cardinal1 = self.waypoint.currentWaypoint[0]\n",
    "        cardinal2 = self.waypoint.currentWaypoint[1]\n",
    "        self.waypoint.cardinalValue[cardinal1] += (self.waypoint.waypointValue[cardinal1] * steps)\n",
    "        self.waypoint.cardinalValue[cardinal2] += (self.waypoint.waypointValue[cardinal2] * steps)\n",
    "\n",
    "\n",
    "    def addtowaypoint(self, instruction, steps):\n",
    "        self.waypoint.waypointValue[instruction] += steps\n",
    "\n",
    "    def instruction(self, instruction, num):\n",
    "        num = int(num)\n",
    "        if (instruction == 'F'):\n",
    "            self.move(num)\n",
    "        elif instruction == 'R' or instruction == 'L':\n",
    "            self.turn(instruction, num)\n",
    "        else:\n",
    "            self.addtowaypoint(instruction, num)"
   ]
  },
  {
   "cell_type": "code",
   "execution_count": 66,
   "metadata": {
    "ExecuteTime": {
     "end_time": "2020-12-18T11:36:50.916517Z",
     "start_time": "2020-12-18T11:36:50.900936Z"
    }
   },
   "outputs": [],
   "source": [
    "class waypoint:\n",
    "\n",
    "    def __init__(self):\n",
    "        self.wayPattern = {'N': 'S', 'S': 'N', 'W': 'E', 'E': 'W'}\n",
    "        self.cardinalValue = {'N': 0, 'E': 0, 'S': 0, 'W': 0}\n",
    "        self.waypointValue = {'N':1, 'E':10, 'S':0, 'W':0}\n",
    "        self.pivot = 'E'\n",
    "        self.currentWaypoint = ['E', 'N']\n",
    "        self.angles = {90: 1, 180: 2, 270: 3, 360: 0, 0: 0}\n",
    "\n",
    "    def rotateWaypoint(self, direction, degree):\n",
    "        if (direction == 'L' and degree != 180):\n",
    "            degree += 180\n",
    "        degree = self.angles[degree % 360]\n",
    "        for i in range(degree):\n",
    "            temp = self.waypointValue[self.currentWaypoint[0]]\n",
    "            temp2 = self.waypointValue[self.currentWaypoint[1]]\n",
    "            self.swapCompass()\n",
    "            self.waypointValue[self.currentWaypoint[0]] = temp2\n",
    "            self.waypointValue[self.currentWaypoint[1]] = temp\n",
    "\n",
    "\n",
    "    def swapCompass(self):\n",
    "        if self.currentWaypoint[0] != self.pivot:\n",
    "            self.currentWaypoint[0] = self.wayPattern[self.currentWaypoint[0]]\n",
    "            self.pivot = self.currentWaypoint[0]\n",
    "        else:\n",
    "            self.currentWaypoint[1] = self.wayPattern[self.currentWaypoint[1]]\n",
    "            self.pivot = self.currentWaypoint[1]\n",
    "\n"
   ]
  },
  {
   "cell_type": "code",
   "execution_count": 67,
   "metadata": {
    "ExecuteTime": {
     "end_time": "2020-12-18T11:36:50.932308Z",
     "start_time": "2020-12-18T11:36:50.916517Z"
    }
   },
   "outputs": [],
   "source": [
    "ship2 = Ship2()"
   ]
  },
  {
   "cell_type": "code",
   "execution_count": 68,
   "metadata": {
    "ExecuteTime": {
     "end_time": "2020-12-18T11:36:50.947758Z",
     "start_time": "2020-12-18T11:36:50.932308Z"
    }
   },
   "outputs": [],
   "source": [
    "for i in inputs:\n",
    "    ship2.instruction(i[0], i[1:])"
   ]
  },
  {
   "cell_type": "code",
   "execution_count": 69,
   "metadata": {
    "ExecuteTime": {
     "end_time": "2020-12-18T11:36:50.963381Z",
     "start_time": "2020-12-18T11:36:50.947758Z"
    }
   },
   "outputs": [
    {
     "name": "stdout",
     "output_type": "stream",
     "text": [
      "38500\n"
     ]
    }
   ],
   "source": [
    "print(abs(ship2.waypoint.cardinalValue['N']-ship2.waypoint.cardinalValue['S']) + abs(ship2.waypoint.cardinalValue['E'] - ship2.waypoint.cardinalValue['W']))\n"
   ]
  },
  {
   "cell_type": "code",
   "execution_count": null,
   "metadata": {},
   "outputs": [],
   "source": []
  },
  {
   "cell_type": "code",
   "execution_count": null,
   "metadata": {},
   "outputs": [],
   "source": []
  },
  {
   "cell_type": "code",
   "execution_count": null,
   "metadata": {},
   "outputs": [],
   "source": []
  }
 ],
 "metadata": {
  "kernelspec": {
   "display_name": "Python 3",
   "language": "python",
   "name": "python3"
  },
  "language_info": {
   "codemirror_mode": {
    "name": "ipython",
    "version": 3
   },
   "file_extension": ".py",
   "mimetype": "text/x-python",
   "name": "python",
   "nbconvert_exporter": "python",
   "pygments_lexer": "ipython3",
   "version": "3.8.2"
  },
  "toc": {
   "base_numbering": 1,
   "nav_menu": {},
   "number_sections": true,
   "sideBar": true,
   "skip_h1_title": false,
   "title_cell": "Table of Contents",
   "title_sidebar": "Contents",
   "toc_cell": false,
   "toc_position": {},
   "toc_section_display": true,
   "toc_window_display": false
  }
 },
 "nbformat": 4,
 "nbformat_minor": 4
}
