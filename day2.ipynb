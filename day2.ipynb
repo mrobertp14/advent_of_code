{
 "cells": [
  {
   "cell_type": "markdown",
   "metadata": {},
   "source": [
    "### Day 2 - Password Philosphy\n",
    "\n",
    "Their password database seems to be a little corrupted: some of the passwords wouldn't have been allowed by the Official Toboggan Corporate Policy that was in effect when they were chosen.\n",
    "\n",
    "To try to debug the problem, they have created a list (your puzzle input) of passwords (according to the corrupted database) and the corporate policy when that password was set.\n",
    "\n",
    "For example, suppose you have the following list:\n",
    "\n",
    "1-3 a: abcde\n",
    "1-3 b: cdefg\n",
    "2-9 c: ccccccccc\n",
    "\n",
    "Each line gives the password policy and then the password. The password policy indicates the lowest and highest number of times a given letter must appear for the password to be valid. For example, 1-3 a means that the password must contain a at least 1 time and at most 3 times."
   ]
  },
  {
   "cell_type": "code",
   "execution_count": 1,
   "metadata": {
    "ExecuteTime": {
     "end_time": "2020-12-17T15:06:14.939953Z",
     "start_time": "2020-12-17T15:06:14.895019Z"
    }
   },
   "outputs": [],
   "source": [
    "import re"
   ]
  },
  {
   "cell_type": "code",
   "execution_count": 2,
   "metadata": {
    "ExecuteTime": {
     "end_time": "2020-12-17T15:06:14.955575Z",
     "start_time": "2020-12-17T15:06:14.939953Z"
    }
   },
   "outputs": [],
   "source": [
    "f = open(\"input2.txt\")"
   ]
  },
  {
   "cell_type": "code",
   "execution_count": 3,
   "metadata": {
    "ExecuteTime": {
     "end_time": "2020-12-17T15:06:14.979727Z",
     "start_time": "2020-12-17T15:06:14.955575Z"
    }
   },
   "outputs": [],
   "source": [
    "passwords = f.read()"
   ]
  },
  {
   "cell_type": "code",
   "execution_count": 5,
   "metadata": {
    "ExecuteTime": {
     "end_time": "2020-12-17T15:06:24.992709Z",
     "start_time": "2020-12-17T15:06:24.952918Z"
    }
   },
   "outputs": [],
   "source": [
    "passwords =passwords.split(\"\\n\")"
   ]
  },
  {
   "cell_type": "code",
   "execution_count": 6,
   "metadata": {
    "ExecuteTime": {
     "end_time": "2020-12-17T15:06:25.467733Z",
     "start_time": "2020-12-17T15:06:25.438760Z"
    }
   },
   "outputs": [],
   "source": [
    "def splitString(aStr):\n",
    "    return re.split(\"-|:| \", aStr)"
   ]
  },
  {
   "cell_type": "markdown",
   "metadata": {},
   "source": [
    "#### Star 1"
   ]
  },
  {
   "cell_type": "code",
   "execution_count": 15,
   "metadata": {
    "ExecuteTime": {
     "end_time": "2020-12-17T15:08:59.634134Z",
     "start_time": "2020-12-17T15:08:59.618660Z"
    }
   },
   "outputs": [],
   "source": [
    "def minMax(mins, maxs, letter, password):\n",
    "    count = password.count(letter)\n",
    "    return count >= mins and count <=maxs"
   ]
  },
  {
   "cell_type": "code",
   "execution_count": 11,
   "metadata": {
    "ExecuteTime": {
     "end_time": "2020-12-17T15:07:54.479501Z",
     "start_time": "2020-12-17T15:07:54.463782Z"
    }
   },
   "outputs": [
    {
     "data": {
      "text/plain": [
       "506"
      ]
     },
     "execution_count": 11,
     "metadata": {},
     "output_type": "execute_result"
    }
   ],
   "source": [
    "#Star1\n",
    "total = 0\n",
    "for i in passwords:\n",
    "    sStr = splitString(i)\n",
    "    if (minMax(int(sStr[0]),int(sStr[1]), sStr[2], sStr[4])):\n",
    "        total +=1\n",
    "total"
   ]
  },
  {
   "cell_type": "markdown",
   "metadata": {},
   "source": [
    "#### Star 2 \n",
    "\n",
    "While it appears you validated the passwords correctly, they don't seem to be what the Official Toboggan Corporate Authentication System is expecting.\n",
    "\n",
    "The shopkeeper suddenly realizes that he just accidentally explained the password policy rules from his old job at the sled rental place down the street! The Official Toboggan Corporate Policy actually works a little differently.\n",
    "\n",
    "Each policy actually describes two positions in the password, where 1 means the first character, 2 means the second character, and so on. (Be careful; Toboggan Corporate Policies have no concept of \"index zero\"!) Exactly one of these positions must contain the given letter. Other occurrences of the letter are irrelevant for the purposes of policy enforcement.\n",
    "\n",
    "Given the same example list from above:\n",
    "\n",
    "    1-3 a: abcde is valid: position 1 contains a and position 3 does not.\n",
    "    1-3 b: cdefg is invalid: neither position 1 nor position 3 contains b.\n",
    "    2-9 c: ccccccccc is invalid: both position 2 and position 9 contain c.\n"
   ]
  },
  {
   "cell_type": "code",
   "execution_count": 13,
   "metadata": {
    "ExecuteTime": {
     "end_time": "2020-12-17T15:08:15.102048Z",
     "start_time": "2020-12-17T15:08:15.080172Z"
    }
   },
   "outputs": [],
   "source": [
    "def validPassword(indexA, indexB, letter, password):\n",
    "    x, y = password[indexA-1], password[indexB-1]\n",
    "    boolA = x==letter \n",
    "    boolB = y==letter\n",
    "    return (boolA ^ boolB) # Xor"
   ]
  },
  {
   "cell_type": "code",
   "execution_count": 14,
   "metadata": {
    "ExecuteTime": {
     "end_time": "2020-12-17T15:08:15.651625Z",
     "start_time": "2020-12-17T15:08:15.620785Z"
    }
   },
   "outputs": [
    {
     "data": {
      "text/plain": [
       "443"
      ]
     },
     "execution_count": 14,
     "metadata": {},
     "output_type": "execute_result"
    }
   ],
   "source": [
    "#Star2\n",
    "total = 0\n",
    "for i in passwords:\n",
    "    sStr = splitString(i)\n",
    "    if (validPassword(int(sStr[0]),int(sStr[1]), sStr[2], sStr[4])):\n",
    "        total +=1\n",
    "total"
   ]
  }
 ],
 "metadata": {
  "kernelspec": {
   "display_name": "Python 3",
   "language": "python",
   "name": "python3"
  },
  "language_info": {
   "codemirror_mode": {
    "name": "ipython",
    "version": 3
   },
   "file_extension": ".py",
   "mimetype": "text/x-python",
   "name": "python",
   "nbconvert_exporter": "python",
   "pygments_lexer": "ipython3",
   "version": "3.8.2"
  },
  "toc": {
   "base_numbering": 1,
   "nav_menu": {},
   "number_sections": true,
   "sideBar": true,
   "skip_h1_title": false,
   "title_cell": "Table of Contents",
   "title_sidebar": "Contents",
   "toc_cell": false,
   "toc_position": {},
   "toc_section_display": true,
   "toc_window_display": false
  }
 },
 "nbformat": 4,
 "nbformat_minor": 4
}
